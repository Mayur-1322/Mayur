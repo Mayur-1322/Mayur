{
  "nbformat": 4,
  "nbformat_minor": 0,
  "metadata": {
    "colab": {
      "provenance": [],
      "authorship_tag": "ABX9TyPj5acWAzSnrt6mp5i6M9kl",
      "include_colab_link": true
    },
    "kernelspec": {
      "name": "python3",
      "display_name": "Python 3"
    },
    "language_info": {
      "name": "python"
    }
  },
  "cells": [
    {
      "cell_type": "markdown",
      "metadata": {
        "id": "view-in-github",
        "colab_type": "text"
      },
      "source": [
        "<a href=\"https://colab.research.google.com/github/Mayur-1322/Mayur/blob/main/Untitled1.ipynb\" target=\"_parent\"><img src=\"https://colab.research.google.com/assets/colab-badge.svg\" alt=\"Open In Colab\"/></a>"
      ]
    },
    {
      "cell_type": "markdown",
      "source": [
        "1)\texplain the key features of Python that make it a popular choice for programming.\n",
        "1.\tReadability and Simplicity\n",
        "•\tPython places a strong emphasis on clean, readable code. Its syntax is designed to be highly readable, with minimal use of brackets and a clear layout using indentation and whitespace.\n",
        "•\tPython’s simplicity and readability make it an ideal choice for both beginners and experienced developers.\n",
        "2.\tExtensive Standard Library\n",
        "•\tPython comes with an extensive standard library, which is a collection of modules and packages that offer a wide range of functionalities.\n",
        "•\tPython’s standard library includes modules and packages for regular expressions, GUI programming, networking, data processing, and much more. This vast ecosystem ensures that developers have access to a wide array of tools without the need for external dependencies.\n",
        "3.\tCross-Platform Compatibility\n",
        "•\tPython’s cross-platform compatibility allows it to run seamlessly on different operating systems such as Windows, macOS, and Linux. Developers can write their code once and deploy it on multiple platforms, saving time and effort in application development.\n",
        "•\tCross-platform compatibility is crucial in modern software development, as it enables applications to reach a broader audience across various devices and operating\n",
        "\n",
        "python Copy code\n",
        "# Assignment operations x = 10\n",
        "x += 5 # Equivalent to x = x + 5 print(x) # Output: 15\n",
        "\n",
        "x *= 2 # Equivalent to x = x * 2 print(x) # Output:\n"
      ],
      "metadata": {
        "id": "LAWJZqCrw6tH"
      }
    }
  ]
}